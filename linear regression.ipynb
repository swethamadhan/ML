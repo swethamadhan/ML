{
  "cells": [
    {
      "cell_type": "markdown",
      "id": "8f65bad7",
      "metadata": {
        "id": "8f65bad7"
      },
      "source": [
        "## IMPORTING PACKAGES"
      ]
    },
    {
      "cell_type": "code",
      "execution_count": 2,
      "id": "e4c61463",
      "metadata": {
        "id": "e4c61463"
      },
      "outputs": [],
      "source": [
        "import numpy as np\n",
        "import matplotlib.pyplot as plt\n",
        "import pandas as pd\n",
        "\n",
        "# Importing the dataset\n",
        "dataset = pd.read_csv('diabetess.csv')\n",
        "X = dataset.iloc[:, :-1].values #get a copy of dataset exclude last column\n",
        "y = dataset.iloc[:, 1].values #get array of dataset in column 1st"
      ]
    },
    {
      "cell_type": "markdown",
      "id": "d1b486fe",
      "metadata": {
        "id": "d1b486fe"
      },
      "source": [
        "## DATASET"
      ]
    },
    {
      "cell_type": "code",
      "execution_count": 3,
      "id": "33ee4dcb",
      "metadata": {
        "scrolled": true,
        "id": "33ee4dcb",
        "outputId": "34aa1e44-b310-4c41-b9da-38ae45f7d133",
        "colab": {
          "base_uri": "https://localhost:8080/",
          "height": 206
        }
      },
      "outputs": [
        {
          "output_type": "execute_result",
          "data": {
            "text/plain": [
              "   Pregnancies  Glucose  BloodPressure  SkinThickness  Insulin   BMI  \\\n",
              "0            6      148             72             35        0  33.6   \n",
              "1            1       85             66             29        0  26.6   \n",
              "2            8      183             64              0        0  23.3   \n",
              "3            1       89             66             23       94  28.1   \n",
              "4            0      137             40             35      168  43.1   \n",
              "\n",
              "   DiabetesPedigreeFunction  Age  Outcome  \n",
              "0                     0.627   50        1  \n",
              "1                     0.351   31        0  \n",
              "2                     0.672   32        1  \n",
              "3                     0.167   21        0  \n",
              "4                     2.288   33        1  "
            ],
            "text/html": [
              "\n",
              "  <div id=\"df-07566a3e-605a-438d-b4f4-ea3ad96e5aea\">\n",
              "    <div class=\"colab-df-container\">\n",
              "      <div>\n",
              "<style scoped>\n",
              "    .dataframe tbody tr th:only-of-type {\n",
              "        vertical-align: middle;\n",
              "    }\n",
              "\n",
              "    .dataframe tbody tr th {\n",
              "        vertical-align: top;\n",
              "    }\n",
              "\n",
              "    .dataframe thead th {\n",
              "        text-align: right;\n",
              "    }\n",
              "</style>\n",
              "<table border=\"1\" class=\"dataframe\">\n",
              "  <thead>\n",
              "    <tr style=\"text-align: right;\">\n",
              "      <th></th>\n",
              "      <th>Pregnancies</th>\n",
              "      <th>Glucose</th>\n",
              "      <th>BloodPressure</th>\n",
              "      <th>SkinThickness</th>\n",
              "      <th>Insulin</th>\n",
              "      <th>BMI</th>\n",
              "      <th>DiabetesPedigreeFunction</th>\n",
              "      <th>Age</th>\n",
              "      <th>Outcome</th>\n",
              "    </tr>\n",
              "  </thead>\n",
              "  <tbody>\n",
              "    <tr>\n",
              "      <th>0</th>\n",
              "      <td>6</td>\n",
              "      <td>148</td>\n",
              "      <td>72</td>\n",
              "      <td>35</td>\n",
              "      <td>0</td>\n",
              "      <td>33.6</td>\n",
              "      <td>0.627</td>\n",
              "      <td>50</td>\n",
              "      <td>1</td>\n",
              "    </tr>\n",
              "    <tr>\n",
              "      <th>1</th>\n",
              "      <td>1</td>\n",
              "      <td>85</td>\n",
              "      <td>66</td>\n",
              "      <td>29</td>\n",
              "      <td>0</td>\n",
              "      <td>26.6</td>\n",
              "      <td>0.351</td>\n",
              "      <td>31</td>\n",
              "      <td>0</td>\n",
              "    </tr>\n",
              "    <tr>\n",
              "      <th>2</th>\n",
              "      <td>8</td>\n",
              "      <td>183</td>\n",
              "      <td>64</td>\n",
              "      <td>0</td>\n",
              "      <td>0</td>\n",
              "      <td>23.3</td>\n",
              "      <td>0.672</td>\n",
              "      <td>32</td>\n",
              "      <td>1</td>\n",
              "    </tr>\n",
              "    <tr>\n",
              "      <th>3</th>\n",
              "      <td>1</td>\n",
              "      <td>89</td>\n",
              "      <td>66</td>\n",
              "      <td>23</td>\n",
              "      <td>94</td>\n",
              "      <td>28.1</td>\n",
              "      <td>0.167</td>\n",
              "      <td>21</td>\n",
              "      <td>0</td>\n",
              "    </tr>\n",
              "    <tr>\n",
              "      <th>4</th>\n",
              "      <td>0</td>\n",
              "      <td>137</td>\n",
              "      <td>40</td>\n",
              "      <td>35</td>\n",
              "      <td>168</td>\n",
              "      <td>43.1</td>\n",
              "      <td>2.288</td>\n",
              "      <td>33</td>\n",
              "      <td>1</td>\n",
              "    </tr>\n",
              "  </tbody>\n",
              "</table>\n",
              "</div>\n",
              "      <button class=\"colab-df-convert\" onclick=\"convertToInteractive('df-07566a3e-605a-438d-b4f4-ea3ad96e5aea')\"\n",
              "              title=\"Convert this dataframe to an interactive table.\"\n",
              "              style=\"display:none;\">\n",
              "        \n",
              "  <svg xmlns=\"http://www.w3.org/2000/svg\" height=\"24px\"viewBox=\"0 0 24 24\"\n",
              "       width=\"24px\">\n",
              "    <path d=\"M0 0h24v24H0V0z\" fill=\"none\"/>\n",
              "    <path d=\"M18.56 5.44l.94 2.06.94-2.06 2.06-.94-2.06-.94-.94-2.06-.94 2.06-2.06.94zm-11 1L8.5 8.5l.94-2.06 2.06-.94-2.06-.94L8.5 2.5l-.94 2.06-2.06.94zm10 10l.94 2.06.94-2.06 2.06-.94-2.06-.94-.94-2.06-.94 2.06-2.06.94z\"/><path d=\"M17.41 7.96l-1.37-1.37c-.4-.4-.92-.59-1.43-.59-.52 0-1.04.2-1.43.59L10.3 9.45l-7.72 7.72c-.78.78-.78 2.05 0 2.83L4 21.41c.39.39.9.59 1.41.59.51 0 1.02-.2 1.41-.59l7.78-7.78 2.81-2.81c.8-.78.8-2.07 0-2.86zM5.41 20L4 18.59l7.72-7.72 1.47 1.35L5.41 20z\"/>\n",
              "  </svg>\n",
              "      </button>\n",
              "      \n",
              "  <style>\n",
              "    .colab-df-container {\n",
              "      display:flex;\n",
              "      flex-wrap:wrap;\n",
              "      gap: 12px;\n",
              "    }\n",
              "\n",
              "    .colab-df-convert {\n",
              "      background-color: #E8F0FE;\n",
              "      border: none;\n",
              "      border-radius: 50%;\n",
              "      cursor: pointer;\n",
              "      display: none;\n",
              "      fill: #1967D2;\n",
              "      height: 32px;\n",
              "      padding: 0 0 0 0;\n",
              "      width: 32px;\n",
              "    }\n",
              "\n",
              "    .colab-df-convert:hover {\n",
              "      background-color: #E2EBFA;\n",
              "      box-shadow: 0px 1px 2px rgba(60, 64, 67, 0.3), 0px 1px 3px 1px rgba(60, 64, 67, 0.15);\n",
              "      fill: #174EA6;\n",
              "    }\n",
              "\n",
              "    [theme=dark] .colab-df-convert {\n",
              "      background-color: #3B4455;\n",
              "      fill: #D2E3FC;\n",
              "    }\n",
              "\n",
              "    [theme=dark] .colab-df-convert:hover {\n",
              "      background-color: #434B5C;\n",
              "      box-shadow: 0px 1px 3px 1px rgba(0, 0, 0, 0.15);\n",
              "      filter: drop-shadow(0px 1px 2px rgba(0, 0, 0, 0.3));\n",
              "      fill: #FFFFFF;\n",
              "    }\n",
              "  </style>\n",
              "\n",
              "      <script>\n",
              "        const buttonEl =\n",
              "          document.querySelector('#df-07566a3e-605a-438d-b4f4-ea3ad96e5aea button.colab-df-convert');\n",
              "        buttonEl.style.display =\n",
              "          google.colab.kernel.accessAllowed ? 'block' : 'none';\n",
              "\n",
              "        async function convertToInteractive(key) {\n",
              "          const element = document.querySelector('#df-07566a3e-605a-438d-b4f4-ea3ad96e5aea');\n",
              "          const dataTable =\n",
              "            await google.colab.kernel.invokeFunction('convertToInteractive',\n",
              "                                                     [key], {});\n",
              "          if (!dataTable) return;\n",
              "\n",
              "          const docLinkHtml = 'Like what you see? Visit the ' +\n",
              "            '<a target=\"_blank\" href=https://colab.research.google.com/notebooks/data_table.ipynb>data table notebook</a>'\n",
              "            + ' to learn more about interactive tables.';\n",
              "          element.innerHTML = '';\n",
              "          dataTable['output_type'] = 'display_data';\n",
              "          await google.colab.output.renderOutput(dataTable, element);\n",
              "          const docLink = document.createElement('div');\n",
              "          docLink.innerHTML = docLinkHtml;\n",
              "          element.appendChild(docLink);\n",
              "        }\n",
              "      </script>\n",
              "    </div>\n",
              "  </div>\n",
              "  "
            ]
          },
          "metadata": {},
          "execution_count": 3
        }
      ],
      "source": [
        "dataset.head()"
      ]
    },
    {
      "cell_type": "markdown",
      "id": "21bd4085",
      "metadata": {
        "id": "21bd4085"
      },
      "source": [
        " ## Splitting the dataset into the Training set and Test set\n"
      ]
    },
    {
      "cell_type": "code",
      "execution_count": 4,
      "id": "b321aa3f",
      "metadata": {
        "id": "b321aa3f"
      },
      "outputs": [],
      "source": [
        "from sklearn.model_selection import train_test_split \n",
        "X_train, X_test, y_train, y_test = train_test_split(X, y, test_size=1/3, random_state=0)"
      ]
    },
    {
      "cell_type": "markdown",
      "id": "51abdd5f",
      "metadata": {
        "id": "51abdd5f"
      },
      "source": [
        "## Fitting Simple Linear Regression to the Training set\n"
      ]
    },
    {
      "cell_type": "code",
      "execution_count": 5,
      "id": "12ec4c37",
      "metadata": {
        "id": "12ec4c37",
        "outputId": "a5625f41-d8d7-42a5-850a-2bbd000441f6",
        "colab": {
          "base_uri": "https://localhost:8080/"
        }
      },
      "outputs": [
        {
          "output_type": "execute_result",
          "data": {
            "text/plain": [
              "array([[  5.   , 126.   ,  78.   , ...,  29.6  ,   0.439,  40.   ],\n",
              "       [ 12.   , 100.   ,  84.   , ...,  30.   ,   0.488,  46.   ],\n",
              "       [  0.   ,  95.   ,  80.   , ...,  36.5  ,   0.33 ,  26.   ],\n",
              "       ...,\n",
              "       [  4.   ,  94.   ,  65.   , ...,  24.7  ,   0.148,  21.   ],\n",
              "       [ 11.   ,  85.   ,  74.   , ...,  30.1  ,   0.3  ,  35.   ],\n",
              "       [  5.   , 136.   ,  82.   , ...,   0.   ,   0.64 ,  69.   ]])"
            ]
          },
          "metadata": {},
          "execution_count": 5
        }
      ],
      "source": [
        "X_train"
      ]
    },
    {
      "cell_type": "code",
      "execution_count": 7,
      "id": "f0804dc2",
      "metadata": {
        "id": "f0804dc2",
        "outputId": "a9826cfa-f4ce-4b06-9f6f-3c0a073735e6",
        "colab": {
          "base_uri": "https://localhost:8080/"
        }
      },
      "outputs": [
        {
          "output_type": "execute_result",
          "data": {
            "text/plain": [
              "array([126, 100,  95, 117,  91,  93,  97, 122, 111,  56, 100, 184, 115,\n",
              "        78, 114,  68,  85, 119, 136, 125,  80, 121, 137,  75,  85, 169,\n",
              "       123, 111, 100, 111,  80,  84,  85, 145, 170, 122,  79, 143, 102,\n",
              "       197, 196,  83,  92, 120, 106, 162, 107, 101, 130, 148, 146, 134,\n",
              "       130,  80, 144,  84,  92, 142, 114, 125,  83, 140, 194, 125, 122,\n",
              "       126,  74,  88, 100, 189, 143, 112, 100, 147, 189, 138, 140, 139,\n",
              "        89,  96, 157,  90, 181,  99, 151, 128, 135, 183, 144,  87, 128,\n",
              "       118, 184, 180, 133, 142, 124, 120,  81, 145, 135, 131, 108,  89,\n",
              "       187, 123, 126,  99, 100, 120, 155, 121, 108, 178, 147,  93,  84,\n",
              "       115,   0, 168, 124,  94,  86, 194, 130,  90, 120, 153, 150, 109,\n",
              "       151,  95, 163, 101, 102, 111, 179, 112, 187,  84,   0,  95, 141,\n",
              "       123, 129, 148,  96, 166, 180, 120, 120,  90, 104, 130, 132, 167,\n",
              "       149, 166,  91, 100, 113, 188, 117, 105, 125, 150, 173,  96, 122,\n",
              "       132, 106, 181, 114,  88, 101, 187,  93, 125, 158,  86, 127, 112,\n",
              "       106, 128,  79, 133, 198,  99, 129, 137, 117, 147,  67, 173,  91,\n",
              "       116, 106, 103, 125, 114, 156, 129, 196, 121, 106, 108, 101,  94,\n",
              "       174, 129, 119, 177, 129, 129, 107,  84, 162,  74, 121, 189, 123,\n",
              "       175, 109, 105, 151,  81, 164,  93,  91, 127, 189, 186, 130, 158,\n",
              "       123, 124, 124, 121, 131,  96, 118, 141, 144, 125, 164, 126,  90,\n",
              "        89,  97, 105, 137, 158, 195, 126,  98, 123,  78, 134, 139, 101,\n",
              "       179, 101, 138, 126, 110, 118, 124, 129, 146,  99, 120, 130, 158,\n",
              "       134,  57, 108, 117, 160,  84, 112,  85, 110, 116,  98, 162, 154,\n",
              "       106, 103, 139, 100, 100, 103,  92, 156,  78, 114, 107,  79,  92,\n",
              "       136, 159,  95, 133, 106, 148,  95,  98, 158, 126, 129, 116, 131,\n",
              "       128, 155, 107, 157, 125, 129,  92,  94, 129, 179, 167,  90, 115,\n",
              "       129,  74, 109, 143, 105, 109, 105,   0, 155, 148, 162,  97, 114,\n",
              "       106, 117, 112, 168,  87, 119, 154, 122, 111, 130, 197, 188, 180,\n",
              "        78, 115, 125, 171,  90, 156, 117,  71, 173, 105, 191, 152, 140,\n",
              "       124,  82, 102,  92, 115, 102, 146, 146, 101, 142, 163, 146, 155,\n",
              "        73, 116, 117, 141, 118, 165, 147, 100,  94,   0,  88, 113, 137,\n",
              "       168, 171, 106, 138, 146, 133, 112,  87, 184, 147, 123, 132, 143,\n",
              "        93,  87, 173, 119, 111, 124, 173,  91,  90, 138,  81,  84, 106,\n",
              "       105, 128, 111, 181, 107, 144,  99, 190, 111, 109, 120, 125, 105,\n",
              "       162, 162, 108,  87, 122,  92,  71, 112,  99, 137, 128,  95, 174,\n",
              "        82, 123,  83,  99,  99, 107, 100, 112, 114, 141, 117, 106,  68,\n",
              "       144, 165,  71,  99, 116, 176, 108, 117, 145,  73, 134,  84, 195,\n",
              "       114, 146, 102,  84,  88, 100,  99,  96,  96, 115, 106,  80, 129,\n",
              "       122, 104,  89,  93, 146, 126,  57,  93, 181,  75, 100,  84, 139,\n",
              "        80, 109,  96, 108, 119, 100, 109, 154, 104, 117, 125, 196, 127,\n",
              "       101, 159,  94,  85, 136])"
            ]
          },
          "metadata": {},
          "execution_count": 7
        }
      ],
      "source": [
        "y_train"
      ]
    },
    {
      "cell_type": "code",
      "execution_count": 8,
      "id": "43e1ae5b",
      "metadata": {
        "id": "43e1ae5b",
        "outputId": "782c51a2-5d4b-4a1a-cf69-adc80c1085c8",
        "colab": {
          "base_uri": "https://localhost:8080/"
        }
      },
      "outputs": [
        {
          "output_type": "execute_result",
          "data": {
            "text/plain": [
              "LinearRegression()"
            ]
          },
          "metadata": {},
          "execution_count": 8
        }
      ],
      "source": [
        "from sklearn.linear_model import LinearRegression\n",
        "model = LinearRegression()\n",
        "model.fit(X_train, y_train)"
      ]
    },
    {
      "cell_type": "markdown",
      "id": "4a8206c5",
      "metadata": {
        "id": "4a8206c5"
      },
      "source": [
        "## Prediction"
      ]
    },
    {
      "cell_type": "code",
      "execution_count": 10,
      "id": "8ea1d30d",
      "metadata": {
        "id": "8ea1d30d",
        "outputId": "d875108a-7076-4bcd-d264-cddbc4b746a8",
        "colab": {
          "base_uri": "https://localhost:8080/"
        }
      },
      "outputs": [
        {
          "output_type": "execute_result",
          "data": {
            "text/plain": [
              "array([ 1.99000000e+02,  1.07000000e+02,  7.60000000e+01,  1.66000000e+02,\n",
              "        1.11000000e+02,  8.10000000e+01,  1.52000000e+02,  1.76000000e+02,\n",
              "        1.27000000e+02,  1.03000000e+02,  1.58000000e+02,  1.87000000e+02,\n",
              "        1.14000000e+02,  8.20000000e+01,  6.50000000e+01,  1.08000000e+02,\n",
              "        1.79000000e+02,  7.30000000e+01,  1.32000000e+02,  9.90000000e+01,\n",
              "        1.44000000e+02,  1.18000000e+02,  8.70000000e+01,  6.10000000e+01,\n",
              "        9.70000000e+01,  1.24000000e+02,  1.04000000e+02,  1.53000000e+02,\n",
              "        1.12000000e+02,  1.10000000e+02,  1.36000000e+02,  1.02000000e+02,\n",
              "        1.02000000e+02,  1.22000000e+02,  1.19000000e+02,  1.68000000e+02,\n",
              "        1.36000000e+02,  1.17000000e+02,  1.19000000e+02,  1.80000000e+02,\n",
              "        1.19000000e+02,  9.00000000e+01,  9.90000000e+01,  1.93000000e+02,\n",
              "        1.97000000e+02,  1.02000000e+02,  1.08000000e+02,  1.29000000e+02,\n",
              "        1.09000000e+02,  1.25000000e+02,  1.33000000e+02,  1.08000000e+02,\n",
              "        1.51000000e+02,  1.37000000e+02,  9.10000000e+01, -5.48567653e-14,\n",
              "        8.50000000e+01,  1.15000000e+02,  1.34000000e+02,  1.15000000e+02,\n",
              "        1.67000000e+02,  1.47000000e+02,  1.25000000e+02,  1.38000000e+02,\n",
              "        1.82000000e+02,  1.97000000e+02,  1.65000000e+02,  1.22000000e+02,\n",
              "        1.06000000e+02,  7.20000000e+01,  1.08000000e+02,  1.19000000e+02,\n",
              "        8.60000000e+01,  1.83000000e+02,  1.71000000e+02,  1.37000000e+02,\n",
              "        6.80000000e+01,  1.54000000e+02,  8.30000000e+01,  9.70000000e+01,\n",
              "        1.00000000e+02,  1.36000000e+02,  1.10000000e+02,  9.70000000e+01,\n",
              "        9.50000000e+01,  9.20000000e+01,  1.39000000e+02,  1.03000000e+02,\n",
              "        1.81000000e+02,  9.40000000e+01,  1.24000000e+02,  1.29000000e+02,\n",
              "        1.13000000e+02,  1.03000000e+02,  1.64000000e+02,  1.11000000e+02,\n",
              "        9.70000000e+01,  1.52000000e+02,  1.11000000e+02,  1.15000000e+02,\n",
              "        1.14000000e+02,  9.90000000e+01,  1.10000000e+02,  9.50000000e+01,\n",
              "        1.28000000e+02,  1.08000000e+02,  1.26000000e+02,  1.37000000e+02,\n",
              "        9.90000000e+01,  1.83000000e+02,  8.80000000e+01,  1.12000000e+02,\n",
              "        1.43000000e+02,  1.28000000e+02,  1.73000000e+02,  1.61000000e+02,\n",
              "        1.08000000e+02,  1.93000000e+02,  1.11000000e+02,  1.20000000e+02,\n",
              "        1.12000000e+02,  1.03000000e+02,  1.15000000e+02,  1.21000000e+02,\n",
              "        1.43000000e+02,  9.00000000e+01,  1.27000000e+02,  1.16000000e+02,\n",
              "        1.35000000e+02,  1.75000000e+02,  1.39000000e+02,  1.05000000e+02,\n",
              "        8.10000000e+01,  1.72000000e+02,  9.40000000e+01,  1.02000000e+02,\n",
              "        1.07000000e+02,  1.03000000e+02,  1.41000000e+02,  1.20000000e+02,\n",
              "        8.70000000e+01,  1.54000000e+02,  1.05000000e+02,  6.20000000e+01,\n",
              "        1.14000000e+02,  9.90000000e+01,  8.80000000e+01,  8.00000000e+01,\n",
              "        9.70000000e+01,  1.05000000e+02,  8.50000000e+01,  1.42000000e+02,\n",
              "        1.16000000e+02,  1.07000000e+02,  1.50000000e+02,  9.70000000e+01,\n",
              "        1.65000000e+02,  1.09000000e+02,  1.20000000e+02,  1.35000000e+02,\n",
              "        1.61000000e+02,  1.94000000e+02,  7.10000000e+01,  1.22000000e+02,\n",
              "        1.79000000e+02,  1.19000000e+02,  7.60000000e+01,  1.11000000e+02,\n",
              "        1.25000000e+02,  1.05000000e+02,  8.90000000e+01,  7.40000000e+01,\n",
              "        1.07000000e+02,  1.02000000e+02,  1.42000000e+02,  9.10000000e+01,\n",
              "        9.50000000e+01,  7.70000000e+01,  1.10000000e+02,  9.10000000e+01,\n",
              "        1.02000000e+02,  1.58000000e+02,  8.30000000e+01,  1.80000000e+02,\n",
              "        1.36000000e+02,  4.40000000e+01,  1.31000000e+02,  1.24000000e+02,\n",
              "        1.44000000e+02,  1.09000000e+02,  1.28000000e+02,  8.80000000e+01,\n",
              "        8.90000000e+01,  1.18000000e+02,  9.10000000e+01,  1.40000000e+02,\n",
              "        1.45000000e+02,  1.54000000e+02,  1.02000000e+02,  9.90000000e+01,\n",
              "        1.11000000e+02,  1.39000000e+02,  1.03000000e+02,  1.36000000e+02,\n",
              "        1.13000000e+02,  7.70000000e+01,  9.50000000e+01,  9.90000000e+01,\n",
              "        1.55000000e+02,  1.24000000e+02,  9.50000000e+01,  8.80000000e+01,\n",
              "        1.12000000e+02,  1.51000000e+02,  1.12000000e+02,  8.10000000e+01,\n",
              "        1.19000000e+02,  1.31000000e+02,  1.61000000e+02,  9.60000000e+01,\n",
              "        9.50000000e+01,  1.01000000e+02,  1.28000000e+02,  1.34000000e+02,\n",
              "        1.47000000e+02,  1.40000000e+02,  1.04000000e+02,  1.09000000e+02,\n",
              "        9.50000000e+01,  1.06000000e+02,  1.22000000e+02,  1.51000000e+02,\n",
              "        8.30000000e+01,  1.22000000e+02,  1.46000000e+02,  1.23000000e+02,\n",
              "        1.04000000e+02,  1.52000000e+02,  1.00000000e+02,  1.70000000e+02,\n",
              "        8.80000000e+01,  1.32000000e+02,  1.13000000e+02,  1.09000000e+02,\n",
              "        9.20000000e+01,  1.00000000e+02,  9.00000000e+01,  1.39000000e+02,\n",
              "        1.02000000e+02,  1.58000000e+02,  1.07000000e+02,  1.45000000e+02,\n",
              "        9.00000000e+01,  1.28000000e+02,  1.05000000e+02,  1.63000000e+02])"
            ]
          },
          "metadata": {},
          "execution_count": 10
        }
      ],
      "source": [
        "y_pred = model.predict(X_test)\n",
        "y_pred"
      ]
    },
    {
      "cell_type": "markdown",
      "id": "f560aa31",
      "metadata": {
        "id": "f560aa31"
      },
      "source": [
        "## Accuracy "
      ]
    },
    {
      "cell_type": "code",
      "execution_count": 11,
      "id": "24035512",
      "metadata": {
        "id": "24035512",
        "outputId": "ab95ec13-3330-4e45-b93f-305ae4d3be7e",
        "colab": {
          "base_uri": "https://localhost:8080/"
        }
      },
      "outputs": [
        {
          "output_type": "stream",
          "name": "stdout",
          "text": [
            "1.0\n"
          ]
        }
      ],
      "source": [
        "print(model.score(X_test, y_test))"
      ]
    },
    {
      "cell_type": "markdown",
      "id": "dc363511",
      "metadata": {
        "id": "dc363511"
      },
      "source": [
        "## Performance  Evaluation\n",
        "from sklearn import metrics\n",
        "meanAbErr = metrics.mean_absolute_error(y_test, y_pred)\n",
        "meanSqErr = metrics.mean_squared_error(y_test, y_pred)\n",
        "rootMeanSqErr = np.sqrt(metrics.mean_squared_error(y_test, y_pred))\n",
        "print('R squared: {:.2f}'.format(regressor.score(X,y)*100))\n",
        "print('Mean Absolute Error:', meanAbErr)\n",
        "print('Mean Square Error:', meanSqErr)\n",
        "print('Root Mean Square Error:', rootMeanSqErr)"
      ]
    },
    {
      "cell_type": "markdown",
      "id": "e8ea33bf",
      "metadata": {
        "id": "e8ea33bf"
      },
      "source": [
        "### R Squared: \n",
        "        R Square is the coefficient of determination. It tells us how many points fall on the regression line. The value of R Square indicates how the data fit the regression model.\n",
        "        \n",
        "        \n",
        "### Mean Absolute Error: \n",
        "         Mean Absolute Error is the absolute difference between the actual or true values and the predicted values. The lower the value, the better is the model’s performance.\n",
        "\n",
        "### Mean Square Error: \n",
        "          Mean Square Error is calculated by taking the average of the square of the difference between the original and predicted values of the data. The lower the value, the better is the model’s performance. \n",
        "\n",
        "### Root Mean Square Error: \n",
        "          Root Mean Square Error is the standard deviation of the errors which occur when a prediction is made on a dataset. This is the same as Mean Squared Error, but the root of the value is considered while determining the accuracy of the model. The lower the value, the better is the model’s performance.\n",
        "\n",
        "\n",
        "### Conclusion\n",
        "         The Multiple Linear Regression model performs well as 95.65% of the data fit the regression model. Also, the mean absolute error, mean square error, and the root mean square error are less"
      ]
    }
  ],
  "metadata": {
    "kernelspec": {
      "display_name": "Python 3 (ipykernel)",
      "language": "python",
      "name": "python3"
    },
    "language_info": {
      "codemirror_mode": {
        "name": "ipython",
        "version": 3
      },
      "file_extension": ".py",
      "mimetype": "text/x-python",
      "name": "python",
      "nbconvert_exporter": "python",
      "pygments_lexer": "ipython3",
      "version": "3.9.7"
    },
    "colab": {
      "provenance": []
    }
  },
  "nbformat": 4,
  "nbformat_minor": 5
}