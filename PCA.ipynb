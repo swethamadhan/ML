{
  "nbformat": 4,
  "nbformat_minor": 0,
  "metadata": {
    "colab": {
      "provenance": [],
      "collapsed_sections": []
    },
    "kernelspec": {
      "name": "python3",
      "display_name": "Python 3"
    },
    "language_info": {
      "name": "python"
    }
  },
  "cells": [
    {
      "cell_type": "markdown",
      "source": [
        "**PRINCIPAL COMPONENT ANALYSIS:**\n",
        "\n",
        "Principal Component Analysis (PCA) is a statistical procedure that uses an orthogonal\n",
        "transformation that converts a set of correlated variables to a set of uncorrelated variables. PCA is\n",
        "the most widely used tool in exploratory data analysis and in machine learning for predictive\n",
        "models. Moreover, PCA is an unsupervised statistical technique used to examine the interrelations\n",
        "among a set of variables. It is also known as a general factor analysis where regression determines a\n",
        "line of best fit."
      ],
      "metadata": {
        "id": "oZ_0g_40qz9T"
      }
    },
    {
      "cell_type": "code",
      "execution_count": 2,
      "metadata": {
        "id": "lbPtPLkWqrFF"
      },
      "outputs": [],
      "source": [
        "%matplotlib inline\n",
        "import numpy as np\n",
        "import matplotlib.pyplot as plt\n",
        "import seaborn as sns; sns.set()"
      ]
    },
    {
      "cell_type": "code",
      "source": [
        "rng = np.random.RandomState(1)\n",
        "X = np.dot(rng.rand(2, 2), rng.randn(2, 200)).T\n",
        "plt.scatter(X[:, 0], X[:, 1])\n",
        "plt.axis('equal');"
      ],
      "metadata": {
        "colab": {
          "base_uri": "https://localhost:8080/",
          "height": 268
        },
        "id": "CumQzfo_q_Mz",
        "outputId": "c476ceed-f304-40ca-98b2-6ae3d34dfe9b"
      },
      "execution_count": 3,
      "outputs": [
        {
          "output_type": "display_data",
          "data": {
            "text/plain": [
              "<Figure size 432x288 with 1 Axes>"
            ],
            "image/png": "[encoded data removed]"
          },
          "metadata": {}
        }
      ]
    },
    {
      "cell_type": "code",
      "source": [
        "from sklearn.decomposition import PCA\n",
        "pca = PCA(n_components=2)\n",
        "pca.fit(X)"
      ],
      "metadata": {
        "colab": {
          "base_uri": "https://localhost:8080/"
        },
        "id": "CCEoFKhZrEZa",
        "outputId": "b2213f11-de7a-4265-a5e5-e221e8b21af9"
      },
      "execution_count": 4,
      "outputs": [
        {
          "output_type": "execute_result",
          "data": {
            "text/plain": [
              "PCA(n_components=2)"
            ]
          },
          "metadata": {},
          "execution_count": 4
        }
      ]
    },
    {
      "cell_type": "code",
      "source": [
        "print(pca.components_)\n"
      ],
      "metadata": {
        "colab": {
          "base_uri": "https://localhost:8080/"
        },
        "id": "bq_qjD4MrEVo",
        "outputId": "a89aa6b8-8ef9-4af4-c21f-fc474627463e"
      },
      "execution_count": 5,
      "outputs": [
        {
          "output_type": "stream",
          "name": "stdout",
          "text": [
            "[[-0.94446029 -0.32862557]\n",
            " [-0.32862557  0.94446029]]\n"
          ]
        }
      ]
    },
    {
      "cell_type": "code",
      "source": [
        "print(pca.explained_variance_)"
      ],
      "metadata": {
        "colab": {
          "base_uri": "https://localhost:8080/"
        },
        "id": "nHYfTq5orES_",
        "outputId": "bd835636-2a6d-4758-f273-fdefd06b1c3f"
      },
      "execution_count": 6,
      "outputs": [
        {
          "output_type": "stream",
          "name": "stdout",
          "text": [
            "[0.7625315 0.0184779]\n"
          ]
        }
      ]
    }
  ]
}